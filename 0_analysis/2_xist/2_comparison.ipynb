{
 "cells": [
  {
   "cell_type": "code",
   "execution_count": 4,
   "id": "5eb7be7f-be41-4500-a988-6b7d8d58150c",
   "metadata": {
    "execution": {
     "iopub.execute_input": "2025-10-23T09:29:34.221091Z",
     "iopub.status.busy": "2025-10-23T09:29:34.220674Z",
     "iopub.status.idle": "2025-10-23T09:29:34.227787Z",
     "shell.execute_reply": "2025-10-23T09:29:34.226449Z",
     "shell.execute_reply.started": "2025-10-23T09:29:34.221074Z"
    }
   },
   "outputs": [],
   "source": [
    "import warnings\n",
    "warnings.filterwarnings(\"ignore\")\n",
    "from collections import defaultdict\n",
    "import numpy as np\n",
    "import pandas as pd\n",
    "import matplotlib.pyplot as plt\n",
    "from matplotlib_venn import *\n",
    "from pyvenn import venn"
   ]
  },
  {
   "cell_type": "markdown",
   "id": "9024ee8c-14d8-4c6f-9bfb-e6ef08b3035b",
   "metadata": {},
   "source": [
    "# Benchmark of XIST-interacted proteins (Figure 2e,f)"
   ]
  },
  {
   "cell_type": "markdown",
   "id": "64a9a330-dc0e-49f6-99d7-6e8940b24207",
   "metadata": {
    "execution": {
     "iopub.execute_input": "2025-10-23T09:22:20.330819Z",
     "iopub.status.busy": "2025-10-23T09:22:20.330374Z",
     "iopub.status.idle": "2025-10-23T09:22:20.335654Z",
     "shell.execute_reply": "2025-10-23T09:22:20.334259Z",
     "shell.execute_reply.started": "2025-10-23T09:22:20.330782Z"
    }
   },
   "source": [
    "## Load datasets"
   ]
  },
  {
   "cell_type": "code",
   "execution_count": 5,
   "id": "6e3d94dd-8a0c-4a1f-b81d-d8de47adef6a",
   "metadata": {
    "execution": {
     "iopub.execute_input": "2025-10-23T09:29:39.157077Z",
     "iopub.status.busy": "2025-10-23T09:29:39.156632Z",
     "iopub.status.idle": "2025-10-23T09:29:39.927608Z",
     "shell.execute_reply": "2025-10-23T09:29:39.926203Z",
     "shell.execute_reply.started": "2025-10-23T09:29:39.157041Z"
    }
   },
   "outputs": [],
   "source": [
    "def load_annotation(path):\n",
    "    anno = pd.read_csv(path, sep=\"\\t\")\n",
    "    gene2entryies = defaultdict(list)\n",
    "    entry2genes = defaultdict(list)\n",
    "    for entry, genes in anno[anno[\"Reviewed\"] == \"reviewed\"][[\"Entry\",  \"Gene Names\"]].values:\n",
    "        if isinstance(genes, str):\n",
    "            for gene in genes.upper().split(\" \"):\n",
    "                gene = gene.upper()\n",
    "                gene2entryies[gene].append(entry)\n",
    "                entry2genes[entry].append(gene)\n",
    "        else:\n",
    "            pass\n",
    "            # print(entry)\n",
    "    return anno, gene2entryies, entry2genes\n",
    "    \n",
    "anno_hg, gene2entries_hg, entry2genes_hg = load_annotation(\"../../common/uniprotkb/uniprotkb-245896766.human.tsv\")\n",
    "anno_mm, gene2entries_mm, entry2genes_mm = load_annotation(\"../../common/uniprotkb/uniprotkb-245896766.mouse.tsv\")"
   ]
  },
  {
   "cell_type": "code",
   "execution_count": 6,
   "id": "dbf3a10c-acd6-43f5-b2ce-4651ffad5eec",
   "metadata": {
    "execution": {
     "iopub.execute_input": "2025-10-23T09:29:44.697074Z",
     "iopub.status.busy": "2025-10-23T09:29:44.696751Z",
     "iopub.status.idle": "2025-10-23T09:29:44.701523Z",
     "shell.execute_reply": "2025-10-23T09:29:44.699712Z",
     "shell.execute_reply.started": "2025-10-23T09:29:44.697056Z"
    }
   },
   "outputs": [],
   "source": [
    "data = dict()"
   ]
  },
  {
   "cell_type": "code",
   "execution_count": 7,
   "id": "d6d41891-cc0f-458a-a2bc-a3493ea58f36",
   "metadata": {
    "execution": {
     "iopub.execute_input": "2025-10-23T09:29:47.975398Z",
     "iopub.status.busy": "2025-10-23T09:29:47.974715Z",
     "iopub.status.idle": "2025-10-23T09:29:48.027085Z",
     "shell.execute_reply": "2025-10-23T09:29:48.025594Z",
     "shell.execute_reply.started": "2025-10-23T09:29:47.975363Z"
    }
   },
   "outputs": [
    {
     "name": "stdout",
     "output_type": "stream",
     "text": [
      "(90, 11)\n",
      "(274, 11)\n"
     ]
    }
   ],
   "source": [
    "# human entry (Protein ID)\n",
    "\n",
    "for name in [\"L1\", \"L3\"]:\n",
    "    d = pd.read_csv(\"results/Proteomic_XIST_%s.csv\" % name, index_col=0)\n",
    "    d = d[(d[\"Unique peptides R1\"] >= 2) \\\n",
    "        & (d[\"Unique peptides R2\"] >= 2) \\\n",
    "        & (d[\"Unique peptides R3\"] >= 2) \\\n",
    "        & (~d[\"Ratio H/L normalized R1\"].isna()) \\\n",
    "        & (~d[\"Ratio H/L normalized R2\"].isna()) \\\n",
    "        & (~d[\"Ratio H/L normalized R3\"].isna())].copy()\n",
    "    d = d[(d[\"Log2FC\"] > np.log2(1.5)) & (d[\"FDR\"] < 0.05)]\n",
    "    print(d.shape)\n",
    "    data[\"TAPRIP_%s\" % name] = set(d.index)"
   ]
  },
  {
   "cell_type": "code",
   "execution_count": 8,
   "id": "95097491-a03e-4572-bf55-e9f9dffd8129",
   "metadata": {
    "execution": {
     "iopub.execute_input": "2025-10-23T09:29:49.277141Z",
     "iopub.status.busy": "2025-10-23T09:29:49.276670Z",
     "iopub.status.idle": "2025-10-23T09:29:49.655680Z",
     "shell.execute_reply": "2025-10-23T09:29:49.654803Z",
     "shell.execute_reply.started": "2025-10-23T09:29:49.277091Z"
    }
   },
   "outputs": [
    {
     "name": "stdout",
     "output_type": "stream",
     "text": [
      "28 28\n",
      "38 38\n"
     ]
    }
   ],
   "source": [
    "# human entry\n",
    "\n",
    "for name in [\"L1\", \"L3\"]:\n",
    "    d = pd.read_excel(\"data/BASU_XIST_interacting_proteins.xlsx\", sheet_name=\"XIST-%s\" % name)\n",
    "    d = d[(d[\"logFC\"] > np.log2(1.5)) & (d[\"P_enrich\"] < 0.05)]\n",
    "    entries = d[\"Accession\"]\n",
    "    print(len(entries), len(set(entries)))\n",
    "    data[\"BASU_%s\" % name] = set(entries)"
   ]
  },
  {
   "cell_type": "code",
   "execution_count": 9,
   "id": "09d8b375-0118-467a-baa4-d02dc70e9ca0",
   "metadata": {
    "execution": {
     "iopub.execute_input": "2025-10-23T09:29:50.400118Z",
     "iopub.status.busy": "2025-10-23T09:29:50.399705Z",
     "iopub.status.idle": "2025-10-23T09:29:50.652967Z",
     "shell.execute_reply": "2025-10-23T09:29:50.651874Z",
     "shell.execute_reply.started": "2025-10-23T09:29:50.400091Z"
    }
   },
   "outputs": [
    {
     "name": "stdout",
     "output_type": "stream",
     "text": [
      "455 450\n"
     ]
    }
   ],
   "source": [
    "# Converted to human entry before comparison.\n",
    "\n",
    "def mouse_entry_to_human_entry(entries):\n",
    "    entries2 = []\n",
    "    for entry in entries:\n",
    "        if entry in entry2genes_mm:\n",
    "            tmp_entries = []\n",
    "            for g in entry2genes_mm[entry]:\n",
    "                if g in gene2entries_hg:\n",
    "                    tmp_entries2 = gene2entries_hg[g]\n",
    "                    tmp_entries.extend(tmp_entries2)\n",
    "            tmp_entries = list(set(tmp_entries))\n",
    "            if len(tmp_entries) == 0:\n",
    "                entries2.append(entry)\n",
    "            elif len(tmp_entries) == 1:\n",
    "                entries2.append(tmp_entries[0])\n",
    "            else:\n",
    "                entries2.extend(tmp_entries)\n",
    "        else:\n",
    "            entries2.append(entry)\n",
    "    return entries2\n",
    "\n",
    "# mouse entry -> mouse genes -> human genes -> human entry\n",
    "\n",
    "d = pd.read_excel(\"data/iDRiP_XIST_interacting_proteins.xlsx\") # Mouse\n",
    "entries = []\n",
    "for x in d[\"Reference\"]:\n",
    "    for x2 in x.split(\";\"):\n",
    "        entries.append(x2.split(\"|\")[1])\n",
    "entries = mouse_entry_to_human_entry(entries)\n",
    "print(len(entries), len(set(entries)))\n",
    "data[\"iDRiP\"] = set(entries)"
   ]
  },
  {
   "cell_type": "code",
   "execution_count": 10,
   "id": "94491b5b-cd2d-4c0d-bb6d-58c204f81bd8",
   "metadata": {
    "execution": {
     "iopub.execute_input": "2025-10-23T09:29:51.557933Z",
     "iopub.status.busy": "2025-10-23T09:29:51.557559Z",
     "iopub.status.idle": "2025-10-23T09:29:51.680789Z",
     "shell.execute_reply": "2025-10-23T09:29:51.679537Z",
     "shell.execute_reply.started": "2025-10-23T09:29:51.557898Z"
    }
   },
   "outputs": [
    {
     "name": "stdout",
     "output_type": "stream",
     "text": [
      "81\n",
      "93 91\n"
     ]
    }
   ],
   "source": [
    "# mouse gene -> mouse entry -> mouse genes -> human genes -> human entry\n",
    "\n",
    "d = pd.read_excel(\"data/CHIRMP-MS_XIST_interacting_proteins.xlsx\") # gene name only, without protein accession\n",
    "print(len(d))\n",
    "entries = []\n",
    "for g in d[\"Gene Symbol\"]:\n",
    "    g = g.upper()\n",
    "    gs = [g]\n",
    "    for e2 in gene2entries_mm[g]:\n",
    "        for g2 in entry2genes_mm[e2]:\n",
    "            gs.append(g2)\n",
    "    gs = list(set(gs))\n",
    "\n",
    "    entries2 = []\n",
    "    for g2 in gs:\n",
    "        entries2.extend(gene2entries_hg[g2])\n",
    "    entries2 = list(set(entries2))\n",
    "    # print(entries2)\n",
    "    if len(entries2) == 0:\n",
    "        entries.append(g)\n",
    "    elif len(entries2) == 1:\n",
    "        entries.append(entries2[0])\n",
    "    else:\n",
    "        entries.extend(entries2)\n",
    "print(len(entries), len(set(entries)))\n",
    "data[\"ChIRP_MS\"] = set(entries)"
   ]
  },
  {
   "cell_type": "markdown",
   "id": "451857ea-eec4-40d0-9b23-c381eb4f3f5d",
   "metadata": {},
   "source": [
    "## Venn4"
   ]
  },
  {
   "cell_type": "code",
   "execution_count": 11,
   "id": "7bbc1be3-77bf-4683-8e75-ecae960d500c",
   "metadata": {
    "execution": {
     "iopub.execute_input": "2025-10-23T09:29:52.264189Z",
     "iopub.status.busy": "2025-10-23T09:29:52.263713Z",
     "iopub.status.idle": "2025-10-23T09:29:52.770791Z",
     "shell.execute_reply": "2025-10-23T09:29:52.769918Z",
     "shell.execute_reply.started": "2025-10-23T09:29:52.264148Z"
    }
   },
   "outputs": [
    {
     "data": {
      "image/png": "[encoded data removed]",
      "text/plain": [
       "<Figure size 960x364.8 with 1 Axes>"
      ]
     },
     "metadata": {},
     "output_type": "display_data"
    }
   ],
   "source": [
    "vs1 = data[\"TAPRIP_L1\"] | data[\"TAPRIP_L3\"]\n",
    "vs2 = data[\"BASU_L1\"] | data[\"BASU_L3\"]\n",
    "vs3 = data[\"iDRiP\"]\n",
    "vs4 = data[\"ChIRP_MS\"]\n",
    "array = [vs1, vs2, vs3, vs4]\n",
    "array = [[v.upper() for v in vs] for vs in array]\n",
    "labels = venn.get_labels(array, fill=['number', 'logic'])\n",
    "for k, v in labels.items():\n",
    "    labels[k] = v.split()[-1]\n",
    "fig, ax = venn.venn4(labels, names=['TAPRIP', 'CARPID', 'iDRiP', 'ChIRP-MS'], figsize=(10, 3.8))\n",
    "fig.savefig('figures/comparison_human_entry.venn4.pdf', bbox_inches='tight')"
   ]
  },
  {
   "cell_type": "markdown",
   "id": "96a4b9b1-b487-40f2-8398-f107ddccf782",
   "metadata": {},
   "source": [
    "## Venn2"
   ]
  },
  {
   "cell_type": "code",
   "execution_count": 13,
   "id": "21c2cd9b-7f89-4f5d-b041-f1dbe9666461",
   "metadata": {
    "execution": {
     "iopub.execute_input": "2025-10-23T09:29:59.462130Z",
     "iopub.status.busy": "2025-10-23T09:29:59.461907Z",
     "iopub.status.idle": "2025-10-23T09:29:59.689515Z",
     "shell.execute_reply": "2025-10-23T09:29:59.688345Z",
     "shell.execute_reply.started": "2025-10-23T09:29:59.462113Z"
    }
   },
   "outputs": [
    {
     "name": "stdout",
     "output_type": "stream",
     "text": [
      "TAPRIP_L1 vs. TAPRIP_L3\n"
     ]
    },
    {
     "data": {
      "image/png": "[encoded data removed]",
      "text/plain": [
       "<Figure size 300x300 with 1 Axes>"
      ]
     },
     "metadata": {},
     "output_type": "display_data"
    }
   ],
   "source": [
    "def plot_overlap(name1, name2):\n",
    "    print(\"%s vs. %s\" % (name1, name2))\n",
    "    plt.figure(figsize=(3, 3))\n",
    "    n1 = len(data[name1])\n",
    "    n2 = len(data[name2])\n",
    "    n3 = len(data[name1] & data[name2])\n",
    "    # vs = [n1, n2, n3]\n",
    "    vs = [1, 1, 1]\n",
    "    res = venn2(vs, set_labels=[name1, name2], set_colors=[\"C0\", \"C1\"])\n",
    "    venn2_circles(vs, lw=0.5)\n",
    "    res.subset_labels[0].set_text(str(n1 - n3))\n",
    "    res.subset_labels[1].set_text(str(n2 - n3))\n",
    "    if res.subset_labels[2]:\n",
    "        res.subset_labels[2].set_text(str(n3))\n",
    "    plt.tight_layout()\n",
    "    # plt.show()\n",
    "    plt.savefig(\"figures/comparison_human_entry.%s_vs_%s.venn2.pdf\" % (name1, name2))\n",
    "    plt.show()\n",
    "    plt.close()\n",
    "\n",
    "    # with open(\"comparison_by_genes_%s_vs_%s.csv\" % (name1, name2), \"w+\") as fw:\n",
    "    #     fw.write(\"Gene Names,Source,Type\\n\")\n",
    "    #     for gs in hits1:\n",
    "    #         fw.write(\",\".join([\"|\".join(gs), \"Set1\", \"Overlap\"]) + \"\\n\")\n",
    "    #     for gs in nohits1:\n",
    "    #         fw.write(\",\".join([\"|\".join(gs), \"Set1\", \"NotOverlap\"]) + \"\\n\")\n",
    "    #     for gs in hits2:\n",
    "    #         fw.write(\",\".join([\"|\".join(gs), \"Set2\", \"Overlap\"]) + \"\\n\")\n",
    "    #     for gs in nohits2:\n",
    "    #         fw.write(\",\".join([\"|\".join(gs), \"Set2\", \"NotOverlap\"]) + \"\\n\")\n",
    "\n",
    "plot_overlap(\"TAPRIP_L1\", \"TAPRIP_L3\")\n",
    "# plot_overlap(\"TAPRIP_L1\", \"ChIRP_MS\")\n",
    "# plot_overlap(\"TAPRIP_L1\", \"iDRiP\")\n",
    "# plot_overlap(\"TAPRIP_L3\", \"ChIRP_MS\")\n",
    "# plot_overlap(\"TAPRIP_L3\", \"iDRiP\")\n",
    "# plot_overlap(\"BASU_L1\", \"ChIRP_MS\")\n",
    "# plot_overlap(\"BASU_L1\", \"iDRiP\")\n",
    "# plot_overlap(\"BASU_L3\", \"ChIRP_MS\")\n",
    "# plot_overlap(\"BASU_L3\", \"iDRiP\")\n",
    "# plot_overlap(\"BASU_L1\", \"BASU_L3\")"
   ]
  },
  {
   "cell_type": "code",
   "execution_count": null,
   "id": "9c60d57b-142b-4aa9-a3f9-8cd370d4b204",
   "metadata": {},
   "outputs": [],
   "source": []
  }
 ],
 "metadata": {
  "kernelspec": {
   "display_name": "Python 3 (ipykernel)",
   "language": "python",
   "name": "python3"
  },
  "language_info": {
   "codemirror_mode": {
    "name": "ipython",
    "version": 3
   },
   "file_extension": ".py",
   "mimetype": "text/x-python",
   "name": "python",
   "nbconvert_exporter": "python",
   "pygments_lexer": "ipython3",
   "version": "3.10.13"
  }
 },
 "nbformat": 4,
 "nbformat_minor": 5
}
