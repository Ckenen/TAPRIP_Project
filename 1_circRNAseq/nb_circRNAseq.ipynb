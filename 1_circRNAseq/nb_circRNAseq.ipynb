{
 "cells": [
  {
   "cell_type": "code",
   "execution_count": 1,
   "id": "65fd9c9e-5dae-441e-b00e-ae42a432f1ec",
   "metadata": {
    "execution": {
     "iopub.execute_input": "2025-10-26T05:10:41.687953Z",
     "iopub.status.busy": "2025-10-26T05:10:41.687542Z",
     "iopub.status.idle": "2025-10-26T05:10:42.012981Z",
     "shell.execute_reply": "2025-10-26T05:10:42.012123Z",
     "shell.execute_reply.started": "2025-10-26T05:10:41.687914Z"
    }
   },
   "outputs": [],
   "source": [
    "import re\n",
    "import numpy as np\n",
    "import pandas as pd\n",
    "from pyBioInfo.IO.File import FastaFile"
   ]
  },
  {
   "cell_type": "markdown",
   "id": "82070da6-317a-44e9-b2dc-bc4a38345fb7",
   "metadata": {},
   "source": [
    "# Merge circRNA expression matrix"
   ]
  },
  {
   "cell_type": "code",
   "execution_count": 3,
   "id": "aa75cc83-1106-4f16-b5c1-8bbc76cc3fc7",
   "metadata": {
    "execution": {
     "iopub.execute_input": "2025-10-26T05:11:30.477157Z",
     "iopub.status.busy": "2025-10-26T05:11:30.476734Z",
     "iopub.status.idle": "2025-10-26T05:12:06.809802Z",
     "shell.execute_reply": "2025-10-26T05:12:06.808118Z",
     "shell.execute_reply.started": "2025-10-26T05:11:30.477124Z"
    }
   },
   "outputs": [
    {
     "name": "stdout",
     "output_type": "stream",
     "text": [
      "--------------------------------------------------------------------------------\n",
      "Sample: 20210720_circRNAseq_oeHNRNPK_Rep1\n",
      "Loading results/2_CIRCexplorer/10_circ_quantify/20210720_circRNAseq_oeHNRNPK_Rep1.txt\n",
      "Loaded records: 29542 \n",
      "After filtered: 26752\n",
      "--------------------------------------------------------------------------------\n",
      "Sample: 20210720_circRNAseq_oeHNRNPK_Rep2\n",
      "Loading results/2_CIRCexplorer/10_circ_quantify/20210720_circRNAseq_oeHNRNPK_Rep2.txt\n",
      "Loaded records: 34932 \n",
      "After filtered: 30871\n",
      "--------------------------------------------------------------------------------\n",
      "Sample: 20210720_circRNAseq_oeNC_Rep1\n",
      "Loading results/2_CIRCexplorer/10_circ_quantify/20210720_circRNAseq_oeNC_Rep1.txt\n",
      "Loaded records: 16412 \n",
      "After filtered: 15424\n",
      "--------------------------------------------------------------------------------\n",
      "Sample: 20210720_circRNAseq_oeNC_Rep2\n",
      "Loading results/2_CIRCexplorer/10_circ_quantify/20210720_circRNAseq_oeNC_Rep2.txt\n",
      "Loaded records: 20332 \n",
      "After filtered: 18919\n"
     ]
    }
   ],
   "source": [
    "def load_quantify(path):\n",
    "    print(\"Loading %s\" % path)\n",
    "    d = pd.read_csv(path, sep=\"\\t\", header=None)\n",
    "    d.columns = [\n",
    "        \"chrom\", \"start\", \"end\", \"name\", \"score\", \"strand\", \"thickStart\", \"thickEnd\", \n",
    "        \"itemRgb\", \"exonCount\", \"exonSizes\", \"exonOffsets\", \n",
    "        \"readNumber\", \"circType\", \"geneName\", \"isoformName\", \"index\", \"flankIntron\", \n",
    "        \"FPBcirc\", \"FPBlinear\", \"CIRCscore\"]\n",
    "    print(\"Loaded records: %d \" % len(d))\n",
    "    d = d[[\"CUFF\" not in s for s in d[\"geneName\"]]] # remove de novo circRNA\n",
    "    d = d[[re.match(\"^chr([0-9]+|[XY])$\", c) is not None for c in d[\"chrom\"]]] # remove non-canonical chromosome circRNA\n",
    "    print(\"After filtered: %d\" % len(d))\n",
    "    return d\n",
    "\n",
    "samples = [\n",
    "    \"20210720_circRNAseq_oeHNRNPK_Rep1\",\n",
    "    \"20210720_circRNAseq_oeHNRNPK_Rep2\",\n",
    "    \"20210720_circRNAseq_oeNC_Rep1\",\n",
    "    \"20210720_circRNAseq_oeNC_Rep2\",\n",
    "]\n",
    "names = [\"OE1\", \"OE2\", \"WT1\", \"WT2\"]\n",
    "\n",
    "array = []\n",
    "for name, sample in zip(names, samples):\n",
    "    print(\"-\" * 80)\n",
    "    print(\"Sample: %s\" % sample)\n",
    "    path = \"results/2_CIRCexplorer/10_circ_quantify/%s.txt\" % sample\n",
    "    d = load_quantify(path)\n",
    "    keys = [tuple(vs) for vs in d[[\"chrom\", \"start\", \"end\", \"strand\", \"exonCount\", \"exonSizes\", \"exonOffsets\", \"geneName\", \"isoformName\", \"flankIntron\"]].values]\n",
    "    assert len(keys) == len(set(keys))\n",
    "    d2 = d[[\"readNumber\", \"FPBcirc\", \"FPBlinear\", \"CIRCscore\"]]\n",
    "    d2.index = keys\n",
    "    d2.columns = [\"%s.%s\" % (c, name) for c in d2.columns]\n",
    "    array.append(d2)\n",
    "\n",
    "df = pd.concat(array, axis=1).fillna(0)\n",
    "df.sort_index(inplace=True)\n",
    "df = df[sorted(df.columns)]\n",
    "anno = pd.DataFrame([list(row) for row in df.index], columns=[\"chrom\", \"start\", \"end\", \"strand\", \"exonCount\", \"exonSizes\", \"exonOffsets\", \"geneName\", \"isoformName\", \"flankIntron\"])\n",
    "df.index = np.arange(len(df))\n",
    "df = df.merge(anno, left_index=True, right_index=True)\n",
    "df.index = [\"circRNA.%d\" % i for i in range(len(df))]\n",
    "df.index.name = \"ID\"\n",
    "df[\"location\"] = [\"%s:%s-%s(%s)\" % (chrom, start, end, strand) for chrom, start, end, strand in df[[\"chrom\", 'start', 'end', 'strand']].values]\n",
    "if True: # Added sequences\n",
    "    lengths = []\n",
    "    seqs = []\n",
    "    with FastaFile(\"/home/zgchen/species/homo_sapiens/GRCh38.p13/GRCh38.canonical.genome.fa\") as f:\n",
    "        for chrom, start, end, sizes, offsets in df[[\"chrom\", \"start\", \"end\", \"exonSizes\", \"exonOffsets\"]].values:\n",
    "            sizes = list(map(int, sizes.split(\",\")))\n",
    "            offsets = list(map(int, offsets.split(\",\")))\n",
    "            vs = []\n",
    "            for size, offset in zip(sizes, offsets):\n",
    "                x = offset + start\n",
    "                y = x + size\n",
    "                vs.append(f.fast_fetch(chrom, x, y).upper())\n",
    "            seq = \"\".join(vs)\n",
    "            lengths.append(len(seq))\n",
    "            seqs.append(seq)\n",
    "    df[\"length\"] = lengths\n",
    "    df[\"sequence\"] = seqs\n",
    "df.to_csv(\"results/circ_rna_merged.tsv\", sep=\"\\t\")"
   ]
  },
  {
   "cell_type": "markdown",
   "id": "d6b13637-282e-400e-9e47-8d83a07d8f7a",
   "metadata": {},
   "source": [
    "# Make circRNA bed file"
   ]
  },
  {
   "cell_type": "code",
   "execution_count": 4,
   "id": "0f19f3c8-a647-4ef8-808c-06b9bcd0b155",
   "metadata": {
    "execution": {
     "iopub.execute_input": "2025-10-26T05:12:06.810663Z",
     "iopub.status.busy": "2025-10-26T05:12:06.810467Z",
     "iopub.status.idle": "2025-10-26T05:12:08.222639Z",
     "shell.execute_reply": "2025-10-26T05:12:08.220347Z",
     "shell.execute_reply.started": "2025-10-26T05:12:06.810648Z"
    }
   },
   "outputs": [],
   "source": [
    "df = pd.read_csv(\"results/circ_rna_merged.tsv\", sep=\"\\t\", index_col=0)\n",
    "with open(\"results/circ_rna_merged.bed\", \"w+\") as fw:\n",
    "    for name, (chrom, start, end, strand, exon_count, exon_sizes, exon_offsets) in zip(df.index, df[[\"chrom\", \"start\", \"end\", \"strand\", \"exonCount\", \"exonSizes\", \"exonOffsets\"]].values):\n",
    "        color = \"0,0,255\" if strand == \"+\" else \"255,0,0\"\n",
    "        row = [chrom, start, end, name, \".\", strand, start, start, color, exon_count, exon_sizes, exon_offsets]\n",
    "        fw.write(\"\\t\".join(map(str, row)) + \"\\n\")\n",
    "! bgzip -f results/circ_rna_merged.bed\n",
    "! tabix -p bed -f results/circ_rna_merged.bed.gz"
   ]
  },
  {
   "cell_type": "code",
   "execution_count": null,
   "id": "45332b7a-2b8b-4065-9b87-dcc025a5c389",
   "metadata": {},
   "outputs": [],
   "source": []
  }
 ],
 "metadata": {
  "kernelspec": {
   "display_name": "py3",
   "language": "python",
   "name": "py3"
  },
  "language_info": {
   "codemirror_mode": {
    "name": "ipython",
    "version": 3
   },
   "file_extension": ".py",
   "mimetype": "text/x-python",
   "name": "python",
   "nbconvert_exporter": "python",
   "pygments_lexer": "ipython3",
   "version": "3.10.13"
  }
 },
 "nbformat": 4,
 "nbformat_minor": 5
}
